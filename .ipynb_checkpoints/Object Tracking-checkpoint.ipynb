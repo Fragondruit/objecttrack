{
 "cells": [
  {
   "cell_type": "code",
   "execution_count": 4,
   "metadata": {},
   "outputs": [],
   "source": [
    "import cv2 as cv\n",
    "import matplotlib.pyplot as plt"
   ]
  },
  {
   "cell_type": "code",
   "execution_count": null,
   "metadata": {},
   "outputs": [],
   "source": [
    "# if the above command didn't work, install this\n",
    "!pip install opencv-contrib-python"
   ]
  },
  {
   "cell_type": "code",
   "execution_count": 5,
   "metadata": {},
   "outputs": [],
   "source": [
    "def resize_preserve(image, width, height, inter=cv.INTER_AREA):\n",
    "    dim = None\n",
    "    h, w = image.shape[:2]\n",
    "\n",
    "    if width is None and height is None:\n",
    "        return image\n",
    "    if width is None:\n",
    "        r = height/float(h)\n",
    "        dim = (int(w * r), height)\n",
    "    else:\n",
    "        r = width/float(w)\n",
    "        dim = (width, int(h * r))\n",
    "\n",
    "    return cv.resize(image, dim, interpolation=inter)"
   ]
  },
  {
   "cell_type": "code",
   "execution_count": 6,
   "metadata": {},
   "outputs": [],
   "source": [
    "def show_box(frame, box, color=(255, 0, 0)):\n",
    "    x, y, width, height = [int(i) for i in box]\n",
    "    cv.rectangle(frame, (x, y), (x+width, y+height), color, 2, 1)"
   ]
  },
  {
   "cell_type": "code",
   "execution_count": 10,
   "metadata": {},
   "outputs": [],
   "source": [
    "path = \"vid5.mp4\"\n",
    "cap = cv.VideoCapture(path)\n",
    "assert cap.isOpened()"
   ]
  },
  {
   "cell_type": "code",
   "execution_count": 11,
   "metadata": {},
   "outputs": [
    {
     "name": "stdout",
     "output_type": "stream",
     "text": [
      "False\n",
      "Selecting box...\n",
      "Creating tracker...\n",
      "Running video...\n"
     ]
    }
   ],
   "source": [
    "model = cv.TrackerCSRT_create()\n",
    "\n",
    "# find an object to track\n",
    "read, init_frame = False, None\n",
    "while not read:\n",
    "    print(read)\n",
    "    read, init_frame = cap.read()\n",
    "init_frame = resize_preserve(init_frame, width=740, height=680)\n",
    "\n",
    "print(\"Selecting box...\")\n",
    "obj_box = cv.selectROI(\"Tracking\", init_frame, False)\n",
    "print(\"Creating tracker...\")\n",
    "model.init(init_frame, obj_box)\n",
    "\n",
    "# now play the animation\n",
    "print(\"Running video...\")\n",
    "while cap.isOpened():\n",
    "    read_in, frame = cap.read()\n",
    "    frame = resize_preserve(frame, width=740, height=680)\n",
    "    \n",
    "    if read_in:\n",
    "        found, box = model.update(frame)\n",
    "        if found: show_box(frame, box)\n",
    "        else: cv.putText(frame, \"OBJECT LOST!\", cv.FONT_HERSHEY_PLAIN, 0.7, (0, 0, 255), 2)\n",
    "        cv.imshow(\"Success\", frame)\n",
    "        \n",
    "    if cv.waitKey(25) & 0xff == ord('q'):\n",
    "        print(\"Exiting.\")\n",
    "        break\n",
    "\n",
    "cap.release()\n",
    "cv.destroyAllWindows()"
   ]
  },
  {
   "cell_type": "code",
   "execution_count": 5,
   "metadata": {},
   "outputs": [
    {
     "ename": "AttributeError",
     "evalue": "module 'cv2.cv2' has no attribute 'closeAllWindows'",
     "output_type": "error",
     "traceback": [
      "\u001b[1;31m---------------------------------------------------------------------------\u001b[0m",
      "\u001b[1;31mAttributeError\u001b[0m                            Traceback (most recent call last)",
      "\u001b[1;32m<ipython-input-5-d07cb1820ed1>\u001b[0m in \u001b[0;36m<module>\u001b[1;34m\u001b[0m\n\u001b[0;32m     13\u001b[0m \u001b[1;33m\u001b[0m\u001b[0m\n\u001b[0;32m     14\u001b[0m \u001b[0mcap\u001b[0m\u001b[1;33m.\u001b[0m\u001b[0mrelease\u001b[0m\u001b[1;33m(\u001b[0m\u001b[1;33m)\u001b[0m\u001b[1;33m\u001b[0m\u001b[1;33m\u001b[0m\u001b[0m\n\u001b[1;32m---> 15\u001b[1;33m \u001b[0mcv\u001b[0m\u001b[1;33m.\u001b[0m\u001b[0mcloseAllWindows\u001b[0m\u001b[1;33m(\u001b[0m\u001b[1;33m)\u001b[0m\u001b[1;33m\u001b[0m\u001b[1;33m\u001b[0m\u001b[0m\n\u001b[0m",
      "\u001b[1;31mAttributeError\u001b[0m: module 'cv2.cv2' has no attribute 'closeAllWindows'"
     ]
    }
   ],
   "source": []
  },
  {
   "cell_type": "code",
   "execution_count": null,
   "metadata": {},
   "outputs": [],
   "source": []
  }
 ],
 "metadata": {
  "kernelspec": {
   "display_name": "Python 3",
   "language": "python",
   "name": "python3"
  },
  "language_info": {
   "codemirror_mode": {
    "name": "ipython",
    "version": 3
   },
   "file_extension": ".py",
   "mimetype": "text/x-python",
   "name": "python",
   "nbconvert_exporter": "python",
   "pygments_lexer": "ipython3",
   "version": "3.7.4"
  }
 },
 "nbformat": 4,
 "nbformat_minor": 2
}
